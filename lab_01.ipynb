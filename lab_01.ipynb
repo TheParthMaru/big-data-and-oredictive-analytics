{
 "cells": [
  {
   "cell_type": "markdown",
   "id": "82beaf30-ddf0-4df1-b1b5-ab6b395596e2",
   "metadata": {},
   "source": [
    "# Part 1: Python Basics"
   ]
  },
  {
   "cell_type": "markdown",
   "id": "3447644d-0b27-4717-8563-e873fcacd4bd",
   "metadata": {},
   "source": [
    "## Task 1: Python as a calculator"
   ]
  },
  {
   "cell_type": "code",
   "execution_count": 6,
   "id": "1f8e275d-b728-49f9-80a0-f9a8879178ac",
   "metadata": {},
   "outputs": [
    {
     "data": {
      "text/plain": [
       "0"
      ]
     },
     "execution_count": 6,
     "metadata": {},
     "output_type": "execute_result"
    }
   ],
   "source": [
    "2 // 6 #Integer division"
   ]
  },
  {
   "cell_type": "code",
   "execution_count": 8,
   "id": "d8a213b5-3b27-45c3-a7ca-23444547aaac",
   "metadata": {},
   "outputs": [
    {
     "data": {
      "text/plain": [
       "0.3333333333333333"
      ]
     },
     "execution_count": 8,
     "metadata": {},
     "output_type": "execute_result"
    }
   ],
   "source": [
    "# Floating point division\n",
    "2 / 6"
   ]
  },
  {
   "cell_type": "code",
   "execution_count": 10,
   "id": "4f98a2a8-45e6-4014-9b30-bb0b58c819cd",
   "metadata": {},
   "outputs": [
    {
     "data": {
      "text/plain": [
       "2"
      ]
     },
     "execution_count": 10,
     "metadata": {},
     "output_type": "execute_result"
    }
   ],
   "source": [
    "# Modulus operation\n",
    "56 % 3"
   ]
  },
  {
   "cell_type": "code",
   "execution_count": 12,
   "id": "c7e187cd-8297-4b28-9eaf-d39141762216",
   "metadata": {},
   "outputs": [
    {
     "data": {
      "text/plain": [
       "192.0"
      ]
     },
     "execution_count": 12,
     "metadata": {},
     "output_type": "execute_result"
    }
   ],
   "source": [
    "# Arithmetic expression\n",
    "12.*(2-6)**2"
   ]
  },
  {
   "cell_type": "code",
   "execution_count": 14,
   "id": "9e0e1dfb-88b1-41e9-b58f-b1f4660ef648",
   "metadata": {},
   "outputs": [
    {
     "data": {
      "text/plain": [
       "True"
      ]
     },
     "execution_count": 14,
     "metadata": {},
     "output_type": "execute_result"
    }
   ],
   "source": [
    "# Comparison of integer and float\n",
    "1 == 1.0"
   ]
  },
  {
   "cell_type": "code",
   "execution_count": 16,
   "id": "9adc4dbd-be50-4c87-9ed0-d4a935593522",
   "metadata": {},
   "outputs": [
    {
     "data": {
      "text/plain": [
       "True"
      ]
     },
     "execution_count": 16,
     "metadata": {},
     "output_type": "execute_result"
    }
   ],
   "source": [
    "# Logical AND operator\n",
    "3 >= 2 and 3 <= 4"
   ]
  },
  {
   "cell_type": "code",
   "execution_count": 18,
   "id": "5ec53ea4-a4c8-4135-ba4a-342a5b9758e5",
   "metadata": {},
   "outputs": [
    {
     "data": {
      "text/plain": [
       "True"
      ]
     },
     "execution_count": 18,
     "metadata": {},
     "output_type": "execute_result"
    }
   ],
   "source": [
    "# Logical OR operator\n",
    "3 >= 5 or 3 <= 4"
   ]
  },
  {
   "cell_type": "markdown",
   "id": "5ec33026-6e1f-4861-8aac-39f199cb433e",
   "metadata": {},
   "source": [
    "### Variables and data types"
   ]
  },
  {
   "cell_type": "code",
   "execution_count": 21,
   "id": "b716b62a-be94-428e-8d25-3eef7517f7d2",
   "metadata": {},
   "outputs": [
    {
     "name": "stdout",
     "output_type": "stream",
     "text": [
      "<class 'float'>\n"
     ]
    }
   ],
   "source": [
    "x = 8.5\n",
    "print(type(x))"
   ]
  },
  {
   "cell_type": "code",
   "execution_count": 23,
   "id": "5b86563d-e127-4eb0-9255-73b1fa9c9a83",
   "metadata": {},
   "outputs": [
    {
     "name": "stdout",
     "output_type": "stream",
     "text": [
      "<class 'int'>\n",
      "<class 'bool'>\n",
      "<class 'str'>\n"
     ]
    }
   ],
   "source": [
    "print(type(8))\n",
    "print(type(True))\n",
    "print(type(\"hello\"))"
   ]
  },
  {
   "cell_type": "code",
   "execution_count": 27,
   "id": "abd14f32-88be-45d7-9577-168662c5231a",
   "metadata": {},
   "outputs": [
    {
     "name": "stdout",
     "output_type": "stream",
     "text": [
      "8.3\n",
      "<class 'float'>\n"
     ]
    }
   ],
   "source": [
    "# Variable assignment and re-assignment\n",
    "n = 5\n",
    "n = 8.3\n",
    "print(n)\n",
    "print(type(n))"
   ]
  },
  {
   "cell_type": "markdown",
   "id": "08a50dd3-b438-4cc3-9b15-26e7fb499181",
   "metadata": {},
   "source": [
    "## Task 2: Run and fix the following code:\n",
    "```python\n",
    "print (’We will have a feast tonight unless you say)\n",
    "speed = ’This is the current speed’\n",
    "int(speed)\n",
    "bad name = 5\n",
    "```"
   ]
  },
  {
   "cell_type": "code",
   "execution_count": 38,
   "id": "fd41383d-a505-472b-9666-942171c4ecdf",
   "metadata": {},
   "outputs": [
    {
     "name": "stdout",
     "output_type": "stream",
     "text": [
      "We will have a feast tonight unless you say\n"
     ]
    }
   ],
   "source": [
    "# The first statement throws error because we cannot use single quotations for a string.\n",
    "# The second statement also throws an error because we are using single quotations for a string. \n",
    "# The third statement will throw an error as we cannot convert a long sentence into integer. So we just remove this statement.\n",
    "# The fourth statement will also throw an error because of violation of variable naming convention.\n",
    "\n",
    "# Fixed code\n",
    "print (\"We will have a feast tonight unless you say\")\n",
    "speed = \"This is the current speed\"\n",
    "\n",
    "bad_name = 5"
   ]
  },
  {
   "cell_type": "markdown",
   "id": "59d21e26-b8df-4001-9fc4-f2caba1bf827",
   "metadata": {},
   "source": [
    "## Task 3: Python's interactive help"
   ]
  },
  {
   "cell_type": "code",
   "execution_count": 41,
   "id": "17723eb7-ed4c-4e72-8e08-970d563ffe4a",
   "metadata": {},
   "outputs": [
    {
     "name": "stdout",
     "output_type": "stream",
     "text": [
      "\n",
      "Please wait a moment while I gather a list of all available modules...\n",
      "\n"
     ]
    },
    {
     "name": "stderr",
     "output_type": "stream",
     "text": [
      "/home/parth/anaconda3/lib/python3.12/site-packages/nltk/twitter/__init__.py:20: UserWarning: The twython library has not been installed. Some functionality from the twitter package will not be available.\n",
      "  warnings.warn(\n",
      "/home/parth/anaconda3/lib/python3.12/pkgutil.py:78: UserWarning: The numpy.array_api submodule is still experimental. See NEP 47.\n",
      "  __import__(info.name)\n",
      "/home/parth/anaconda3/lib/python3.12/site-packages/pydantic/experimental/__init__.py:7: PydanticExperimentalWarning:\n",
      "\n",
      "This module is experimental, its contents are subject to change and deprecation.\n",
      "\n",
      "No QCoreApplication instance found. Application patches not applied. You have to call load_stylesheet function after instantiation of QApplication to take effect. \n"
     ]
    },
    {
     "name": "stdout",
     "output_type": "stream",
     "text": [
      "3204bda914b7f2c6f497__mypyc botocore            jupyter_server_terminals repo_cli\n",
      "IPython             bottleneck          jupyterlab          reprlib\n",
      "OpenSSL             brotli              jupyterlab_plotly   requests\n",
      "PIL                 bs4                 jupyterlab_pygments requests_file\n",
      "PyQt5               builtins            jupyterlab_server   requests_toolbelt\n",
      "__future__          bz2                 jupyterlab_widgets  resource\n",
      "__hello__           cProfile            jwt                 rfc3339_validator\n",
      "__phello__          cachetools          keyring             rfc3986_validator\n",
      "_abc                calendar            keyword             rich\n",
      "_aix_support        certifi             kiwisolver          rlcompleter\n",
      "_argon2_cffi_bindings cffi                lazy_loader         rope\n",
      "_ast                cgi                 lazy_object_proxy   rpds\n",
      "_asyncio            cgitb               lckr_jupyterlab_variableinspector rtree\n",
      "_bisect             chardet             lib2to3             ruamel_yaml\n",
      "_black_version      charset_normalizer  libarchive          runpy\n",
      "_blake2             chunk               libmambapy          s3fs\n",
      "_brotli             click               lief                sched\n",
      "_bz2                cloudpickle         linecache           scipy\n",
      "_cffi_backend       cmath               linkify_it          scrapy\n",
      "_codecs             cmd                 llvmlite            seaborn\n",
      "_codecs_cn          code                lmdb                secrets\n",
      "_codecs_hk          codecs              locale              secretstorage\n",
      "_codecs_iso2022     codeop              locket              select\n",
      "_codecs_jp          collections         logging             selectors\n",
      "_codecs_kr          colorama            lxml                semver\n",
      "_codecs_tw          colorcet            lz4                 send2trash\n",
      "_collections        colorsys            lzma                sentry_sdk\n",
      "_collections_abc    comm                mailbox             service_identity\n",
      "_compat_pickle      compileall          mailcap             setuptools\n",
      "_compression        concurrent          mako                shellingham\n",
      "_contextvars        conda               markdown            shelve\n",
      "_crypt              conda_build         markdown_it         shlex\n",
      "_csv                conda_content_trust markupsafe          shutil\n",
      "_ctypes             conda_env           marshal             signal\n",
      "_ctypes_test        conda_index         math                sipbuild\n",
      "_curses             conda_libmamba_solver matplotlib          site\n",
      "_curses_panel       conda_pack          matplotlib_inline   six\n",
      "_datetime           conda_package_handling mccabe              skimage\n",
      "_decimal            conda_package_streaming mdit_py_plugins     sklearn\n",
      "_distutils_hack     conda_token         mdurl               slugify\n",
      "_elementtree        configparser        menuinst            smart_open\n",
      "_functools          constantly          mimetypes           smmap\n",
      "_hashlib            contextlib          mistune             smtplib\n",
      "_heapq              contextvars         mkl                 sndhdr\n",
      "_imp                contourpy           mkl_fft             sniffio\n",
      "_io                 cookiecutter        mkl_random          snowballstemmer\n",
      "_json               copy                mmap                socket\n",
      "_locale             copyreg             modulefinder        socketserver\n",
      "_lsprof             cpuinfo             more_itertools      socks\n",
      "_lzma               crypt               mpmath              sockshandler\n",
      "_markupbase         cryptography        msgpack             sortedcontainers\n",
      "_md5                cssselect           multidict           soupsieve\n",
      "_multibytecodec     csv                 multipledispatch    sphinx\n",
      "_multiprocessing    ctypes              multiprocessing     spwd\n",
      "_opcode             curl                mypy                spyder\n",
      "_operator           curses              mypy_extensions     spyder_kernels\n",
      "_osx_support        cycler              mypyc               sqlalchemy\n",
      "_pickle             cytoolz             navigator_updater   sqlite3\n",
      "_plotly_future_     dask                nb_conda_kernels    sre_compile\n",
      "_plotly_utils       dask_expr           nbclient            sre_constants\n",
      "_posixshmem         dataclasses         nbconvert           sre_parse\n",
      "_posixsubprocess    datashader          nbformat            ssl\n",
      "_py_abc             datetime            nest_asyncio        stack_data\n",
      "_pydatetime         dateutil            netrc               stat\n",
      "_pydecimal          dbm                 networkx            statistics\n",
      "_pyio               debugpy             nis                 statsmodels\n",
      "_pylong             decimal             nltk                streamlit\n",
      "_pytest             decorator           nntplib             string\n",
      "_queue              defusedxml          notebook            stringprep\n",
      "_random             diff_match_patch    notebook_shim       struct\n",
      "_ruamel_yaml        difflib             ntpath              subprocess\n",
      "_sha1               dill                nturl2path          sunau\n",
      "_sha2               dis                 numba               sympy\n",
      "_sha3               distributed         numbergen           symtable\n",
      "_signal             distro              numbers             sys\n",
      "_sitebuiltins       docstring_to_markdown numexpr             sysconfig\n",
      "_socket             doctest             numpy               syslog\n",
      "_sqlite3            docutils            numpydoc            tables\n",
      "_sre                dotenv              opcode              tabnanny\n",
      "_ssl                email               openpyxl            tabulate\n",
      "_stat               encodings           operator            tarfile\n",
      "_statistics         ensurepip           optparse            tblib\n",
      "_string             enum                os                  telnetlib\n",
      "_strptime           erfa                ossaudiodev         tempfile\n",
      "_struct             errno               overrides           tenacity\n",
      "_symtable           et_xmlfile          packaging           terminado\n",
      "_sysconfigdata__linux_x86_64-linux-gnu executing           pandas              termios\n",
      "_sysconfigdata_x86_64_conda_cos6_linux_gnu fastjsonschema      pandocfilters       test\n",
      "_sysconfigdata_x86_64_conda_linux_gnu faulthandler        panel               test_pycosat\n",
      "_testbuffer         fcntl               param               text_unidecode\n",
      "_testcapi           filecmp             parsel              textdistance\n",
      "_testclinic         fileinput           parso               textwrap\n",
      "_testimportmultiple filelock            partd               this\n",
      "_testinternalcapi   flake8              pathlib             threading\n",
      "_testmultiphase     flask               pathspec            threadpoolctl\n",
      "_testsinglephase    fnmatch             patsy               three_merge\n",
      "_thread             fontTools           pdb                 tifffile\n",
      "_threading_local    fractions           pexpect             time\n",
      "_tkinter            frozendict          pickle              timeit\n",
      "_tokenize           frozenlist          pickleshare         tinycss2\n",
      "_tracemalloc        fsspec              pickletools         tkinter\n",
      "_typing             ftplib              pip                 tldextract\n",
      "_uuid               functools           pipes               tlz\n",
      "_warnings           gc                  pkce                token\n",
      "_weakref            genericpath         pkg_resources       tokenize\n",
      "_weakrefset         gensim              pkginfo             toml\n",
      "_xxinterpchannels   getopt              pkgutil             tomli\n",
      "_xxsubinterpreters  getpass             platform            tomlkit\n",
      "_xxtestfuzz         gettext             platformdirs        tomllib\n",
      "_yaml               git                 plistlib            toolz\n",
      "_zoneinfo           gitdb               plotly              tornado\n",
      "abc                 glob                pluggy              tqdm\n",
      "aext_assistant      graphlib            ply                 trace\n",
      "aext_assistant_server greenlet            poplib              traceback\n",
      "aext_core           grp                 posix               tracemalloc\n",
      "aext_core_server    gzip                posixpath           traitlets\n",
      "aext_panels         h11                 pprint              truststore\n",
      "aext_panels_server  h5py                profile             tty\n",
      "aext_project_filebrowser_server hashlib             prometheus_client   turtle\n",
      "aext_share_notebook heapdict            prompt_toolkit      turtledemo\n",
      "aext_share_notebook_server heapq               protego             twisted\n",
      "aext_shared         hmac                pstats              typeguard\n",
      "aext_toolbox        holoviews           psutil              typer\n",
      "aifc                html                pty                 types\n",
      "aiobotocore         http                ptyprocess          typing\n",
      "aiohappyeyeballs    httpcore            pure_eval           typing_extensions\n",
      "aiohttp             httpx               pwd                 tzdata\n",
      "aioitertools        hvplot              py                  uc_micro\n",
      "aiosignal           hyperlink           py_compile          ujson\n",
      "alabaster           idlelib             pyarrow             unicodedata\n",
      "alembic             idna                pyasn1              unicodedata2\n",
      "altair              imagecodecs         pyasn1_modules      unidecode\n",
      "anaconda_anon_usage imageio             pyclbr              unittest\n",
      "anaconda_catalogs   imagesize           pycodestyle         urllib\n",
      "anaconda_cli_base   imaplib             pycosat             urllib3\n",
      "anaconda_cloud_auth imblearn            pycparser           uu\n",
      "anaconda_navigator  imghdr              pyct                uuid\n",
      "anaconda_project    importlib           pycurl              venv\n",
      "annotated_types     importlib_metadata  pydantic            w3lib\n",
      "antigravity         importlib_resources pydantic_core       warnings\n",
      "anyio               incremental         pydantic_settings   watchdog\n",
      "appdirs             inflect             pydeck              wave\n",
      "archspec            inflection          pydispatch          wcwidth\n",
      "argon2              iniconfig           pydoc               weakref\n",
      "argparse            inspect             pydoc_data          webbrowser\n",
      "array               intake              pydocstyle          webencodings\n",
      "arrow               intervaltree        pyexpat             websocket\n",
      "ast                 io                  pyflakes            werkzeug\n",
      "astroid             ipaddress           pygments            whatthepatch\n",
      "astropy             ipykernel           pylab               wheel\n",
      "astropy_iers_data   ipykernel_launcher  pylint              widgetsnbextension\n",
      "asttokens           ipython_genutils    pylint_venv         wrapt\n",
      "async_lru           ipywidgets          pyls_spyder         wsgiref\n",
      "asyncio             isort               pylsp               wurlitzer\n",
      "atexit              isympy              pylsp_black         xarray\n",
      "atomicwrites        itemadapter         pylsp_jsonrpc       xdg\n",
      "attr                itemloaders         pyodbc              xdrlib\n",
      "attrs               itertools           pyparsing           xml\n",
      "audioop             itsdangerous        pytest              xmlrpc\n",
      "autocommand         jedi                pythonjsonlogger    xxlimited\n",
      "automat             jeepney             pytoolconfig        xxlimited_35\n",
      "autopep8            jellyfish           pytz                xxsubtype\n",
      "babel               jinja2              pyviz_comms         xyzservices\n",
      "backports           jmespath            pywt                yaml\n",
      "base64              joblib              qdarkstyle          yapf\n",
      "bcrypt              json                qstylizer           yapf_third_party\n",
      "bdb                 json5               qtawesome           yapftests\n",
      "binaryornot         jsonpatch           qtconsole           yarl\n",
      "binascii            jsonpointer         qtpy                zict\n",
      "binstar_client      jsonschema          queue               zipapp\n",
      "bisect              jsonschema_specifications queuelib            zipfile\n",
      "black               jupyter             quopri              zipimport\n",
      "blackd              jupyter_client      random              zipp\n",
      "bleach              jupyter_console     re                  zlib\n",
      "blib2to3            jupyter_core        readchar            zmq\n",
      "blinker             jupyter_events      readline            zoneinfo\n",
      "bokeh               jupyter_lsp         referencing         zope\n",
      "boltons             jupyter_server      regex               zstandard\n",
      "\n",
      "Enter any module name to get more help.  Or, type \"modules spam\" to search\n",
      "for modules whose name or summary contain the string \"spam\".\n",
      "\n"
     ]
    }
   ],
   "source": [
    "help('modules')"
   ]
  },
  {
   "cell_type": "code",
   "execution_count": 43,
   "id": "1c7d7761-218e-4c00-b4f7-4ad351743afa",
   "metadata": {},
   "outputs": [
    {
     "name": "stdout",
     "output_type": "stream",
     "text": [
      "Help on method raw_input in module ipykernel.kernelbase:\n",
      "\n",
      "input = raw_input(prompt='') method of ipykernel.ipkernel.IPythonKernel instance\n",
      "    Forward raw_input to frontends\n",
      "\n",
      "    Raises\n",
      "    ------\n",
      "    StdinNotImplementedError if active frontend doesn't support stdin.\n",
      "\n"
     ]
    }
   ],
   "source": [
    "help('input')"
   ]
  },
  {
   "cell_type": "code",
   "execution_count": 45,
   "id": "78eeb1f7-f284-4c79-b461-7f4106944bf0",
   "metadata": {},
   "outputs": [
    {
     "name": "stdout",
     "output_type": "stream",
     "text": [
      "Help on built-in function min in module builtins:\n",
      "\n",
      "min(...)\n",
      "    min(iterable, *[, default=obj, key=func]) -> value\n",
      "    min(arg1, arg2, *args, *[, key=func]) -> value\n",
      "\n",
      "    With a single iterable argument, return its smallest item. The\n",
      "    default keyword-only argument specifies an object to return if\n",
      "    the provided iterable is empty.\n",
      "    With two or more arguments, return the smallest argument.\n",
      "\n"
     ]
    }
   ],
   "source": [
    "help('min')"
   ]
  },
  {
   "cell_type": "markdown",
   "id": "efb269fb-fa38-4e92-8023-24d1580831a8",
   "metadata": {},
   "source": [
    "# Part 2: Conditional executions"
   ]
  },
  {
   "cell_type": "code",
   "execution_count": 52,
   "id": "70db769d-a8a7-4c52-917b-1037e286d171",
   "metadata": {},
   "outputs": [
    {
     "name": "stdin",
     "output_type": "stream",
     "text": [
      " 12\n"
     ]
    },
    {
     "name": "stdout",
     "output_type": "stream",
     "text": [
      "even\n"
     ]
    }
   ],
   "source": [
    "# Even or odd\n",
    "num = int(input())\n",
    "if num % 2 == 0:\n",
    "    print(\"even\")\n",
    "else:\n",
    "    print(\"odd\")"
   ]
  },
  {
   "cell_type": "markdown",
   "id": "eab6aa53-3e67-4faa-a966-d557fd40d6f3",
   "metadata": {},
   "source": [
    "## Task 4: Write a python program that calculates an employee's total pay based on the following conditions:\n",
    "- The employee is paid a regular hourly rate for the first 40 hours.\n",
    "- For the hours worked beyond 40, the employee earns 1.5 times the regular hourly rate (overtime pay).\n",
    "- You can assume the regular hourly rate pay of the employee as 12."
   ]
  },
  {
   "cell_type": "code",
   "execution_count": 59,
   "id": "bf21ab59-a3ad-434f-98c3-6537d136d862",
   "metadata": {},
   "outputs": [
    {
     "name": "stdin",
     "output_type": "stream",
     "text": [
      "Enter total overtime hours:  4\n"
     ]
    },
    {
     "name": "stdout",
     "output_type": "stream",
     "text": [
      "Total payment = £ 552.0\n"
     ]
    }
   ],
   "source": [
    "regular_hourly_rate = 12.0\n",
    "regular_hours = 40\n",
    "regular_payment = regular_hourly_rate * regular_hours\n",
    "\n",
    "overtime_hours = float(input(\"Enter total overtime hours: \"))\n",
    "\n",
    "overtime_payment = overtime_hours * 1.5 * regular_hourly_rate\n",
    "\n",
    "total_payment = regular_payment + overtime_payment\n",
    "print(\"Total payment = £\", total_payment)"
   ]
  },
  {
   "cell_type": "markdown",
   "id": "9a4312da-8ae1-4458-86c9-50d7e4211b0b",
   "metadata": {},
   "source": [
    "# Part 3: Working with loops"
   ]
  },
  {
   "cell_type": "code",
   "execution_count": 62,
   "id": "fd24bd3c-36c9-4c0c-84cf-7a83f170a9a5",
   "metadata": {},
   "outputs": [
    {
     "name": "stdout",
     "output_type": "stream",
     "text": [
      "5\n",
      "4\n",
      "3\n",
      "2\n",
      "1\n",
      "Done!\n"
     ]
    }
   ],
   "source": [
    "# while loop\n",
    "n = 5\n",
    "while (n > 0):\n",
    "    print(n)\n",
    "    n = n - 1\n",
    "print(\"Done!\")"
   ]
  },
  {
   "cell_type": "code",
   "execution_count": 64,
   "id": "451c3ae3-05bf-4fe3-a826-8c4ce3cccd2e",
   "metadata": {},
   "outputs": [
    {
     "name": "stdout",
     "output_type": "stream",
     "text": [
      "0\n",
      "1\n",
      "2\n",
      "3\n",
      "4\n",
      "Done!\n"
     ]
    }
   ],
   "source": [
    "# for loop\n",
    "for i in range(5):\n",
    "    print(i)\n",
    "print(\"Done!\")"
   ]
  },
  {
   "cell_type": "markdown",
   "id": "33dcfb66-51de-43f5-a73b-24308de974fe",
   "metadata": {},
   "source": [
    "## Task 5:\n",
    "Write a program which repeatedly reads numbers until the user enters ”done”.\n",
    "Once ”done” is entered, print out the total, count, and average of the numbers. If the user\n",
    "enters anything other than a number, detect their mistake and print an error message\n",
    "and skip to the next number.\n",
    "```\n",
    "Enter a number: 4\n",
    "Enter a number: 5\n",
    "Enter a number: bad data\n",
    "Invalid input\n",
    "Enter a number: 7\n",
    "Enter a number: done\n",
    "\n",
    "Output:\n",
    "16 3 5.33333333333\n",
    "```\n",
    "\n",
    "Hint: Use the command input to read from the keyboard and the try ... except to deal with\n",
    "invalid input values. We will learn a bit more about exception handling in the tutorial."
   ]
  },
  {
   "cell_type": "code",
   "execution_count": 87,
   "id": "531e6cbc-670f-429d-a5c5-427b72c4eaf8",
   "metadata": {},
   "outputs": [
    {
     "name": "stdin",
     "output_type": "stream",
     "text": [
      "Enter a number:  4\n",
      "Enter a number:  5\n",
      "Enter a number:  bad data\n"
     ]
    },
    {
     "name": "stdout",
     "output_type": "stream",
     "text": [
      "Invalid input\n"
     ]
    },
    {
     "name": "stdin",
     "output_type": "stream",
     "text": [
      "Enter a number:  7\n",
      "Enter a number:  DONE\n"
     ]
    },
    {
     "name": "stdout",
     "output_type": "stream",
     "text": [
      "16.0 3 5.333333333333333\n"
     ]
    }
   ],
   "source": [
    "total = 0\n",
    "count = 0\n",
    "\n",
    "while True:\n",
    "    num = input(\"Enter a number: \")\n",
    "\n",
    "    if(num.lower() == \"done\"):\n",
    "        break\n",
    "    try:\n",
    "        num = float(num)\n",
    "        total += num\n",
    "        count += 1\n",
    "    except ValueError:\n",
    "        print(\"Invalid input\")\n",
    "\n",
    "if count > 0:\n",
    "    average = total / count\n",
    "    print(total, count, average)"
   ]
  },
  {
   "cell_type": "markdown",
   "id": "13a33a67-6990-4771-b606-20435f86b57f",
   "metadata": {},
   "source": [
    "# Part 4: Using python packages"
   ]
  },
  {
   "cell_type": "markdown",
   "id": "57c16332-2358-40fb-9b6a-68f7ba9b4d5f",
   "metadata": {},
   "source": [
    "Basic plotting with numpy and matplotlib"
   ]
  },
  {
   "cell_type": "code",
   "execution_count": 91,
   "id": "9a5e568f-807c-4231-b26a-d74337283eef",
   "metadata": {},
   "outputs": [
    {
     "name": "stdout",
     "output_type": "stream",
     "text": [
      "PI value:  3.141592653589793\n"
     ]
    },
    {
     "data": {
      "image/png": "[encoded data removed]",
      "text/plain": [
       "<Figure size 640x480 with 1 Axes>"
      ]
     },
     "metadata": {},
     "output_type": "display_data"
    }
   ],
   "source": [
    "import math\n",
    "import numpy as np\n",
    "import matplotlib.pyplot as plt\n",
    "%matplotlib inline\n",
    "\n",
    "print(\"PI value: \",math.pi)\n",
    "\n",
    "x = np.random.randn(100,100)\n",
    "y = np.mean(x, 0)\n",
    "plt.plot(y)\n",
    "plt.show()"
   ]
  },
  {
   "cell_type": "code",
   "execution_count": null,
   "id": "bc96974e-631e-46c6-8b1a-4720e27a7f2b",
   "metadata": {},
   "outputs": [],
   "source": []
  }
 ],
 "metadata": {
  "kernelspec": {
   "display_name": "Python [conda env:base] *",
   "language": "python",
   "name": "conda-base-py"
  },
  "language_info": {
   "codemirror_mode": {
    "name": "ipython",
    "version": 3
   },
   "file_extension": ".py",
   "mimetype": "text/x-python",
   "name": "python",
   "nbconvert_exporter": "python",
   "pygments_lexer": "ipython3",
   "version": "3.12.7"
  }
 },
 "nbformat": 4,
 "nbformat_minor": 5
}
