{
 "cells": [
  {
   "cell_type": "markdown",
   "id": "650fb2ea-b2e0-47b9-a8cd-7076b7a2bd6d",
   "metadata": {
    "tags": []
   },
   "source": [
    "# CO7093 – Big Data & Predictive Analytics"
   ]
  },
  {
   "cell_type": "markdown",
   "id": "1556b912-f7e0-43d5-b2a2-05d602f34542",
   "metadata": {},
   "source": [
    "### Tutorial 1 – Probability Distributions"
   ]
  },
  {
   "cell_type": "markdown",
   "id": "4151b025-48ad-4470-bc06-8cb5f82322bb",
   "metadata": {},
   "source": [
    "**Exercise 1:** Assume you toss a fair coin and four times in a row and record the number of heads. You represent the number of heads with the random variable X. Answer the following questions:\n",
    "<ol>\n",
    "    <li>What is the type of random variable X?</li>\n",
    "    <li>Which probability distribution could be used to model this situation accurately.</li>\n",
    "    <li>Write down the sample space for this event.</li>\n",
    "    <li>Using Python, determine the probability of getting 0, 1, 2, 3, 4 heads. Represent this probability distribution with the help of a table and a graph. Analyze your results.</li>\n",
    "    <li>Repeat your work for different values of n and p.</li>\n",
    "</ol>"
   ]
  },
  {
   "cell_type": "code",
   "execution_count": null,
   "id": "51c6fad1-8db2-4d41-938d-fd408ba9bdb8",
   "metadata": {},
   "outputs": [],
   "source": []
  },
  {
   "cell_type": "markdown",
   "id": "982b7402-6a31-4671-bdb0-d9ff0dd71a3f",
   "metadata": {},
   "source": [
    "**Exercise 2:** Assume that the historical data shows that the average number of customers arriving at a bank branch per minute during the lunch time hour is 3. We aim to determine the probabilities that a specific number of customers will arrive at the bank branch in a one-minute interval during the lunch hour. In other words, will zero, one, two, or more customers will arrive in the one-minute interval and what are the associated\n",
    "probabilities?\n",
    "<ol>\n",
    "    <li>What kind of distribution best describe the sought probabilities?</li>\n",
    "    <li>Estimate the probabilities of getting 0, 1,2,4 arrivals.</li>\n",
    "    <li>Using Python, estimate probabilities.</li>\n",
    "    <li>Give the mean and the standard deviation of this distribution.</li>\n",
    "    <li>Estimate the probabilities of getting 0, 1,2,…,15 arrivals using python. Represent this probability distribution with the help of a table and a graph. Analyze your results.</li>\n",
    "</ol>"
   ]
  },
  {
   "cell_type": "code",
   "execution_count": null,
   "id": "48f4a01c-6069-45b2-ae14-d124800a6777",
   "metadata": {},
   "outputs": [],
   "source": []
  },
  {
   "cell_type": "markdown",
   "id": "5f084947-c666-45a3-af00-1c9e490addd7",
   "metadata": {},
   "source": [
    "**Exercise 3:** In this exercise we will experiment with normal distribution in python.\n",
    "<ol>\n",
    "    <li>Generate an array of 10 random numbers from a standard normal distribution. You can use np.random.normal(μ, σ, size).</li>\n",
    "    <li>Plot the histogram of the values (plt.hist(nbins)).</li>\n",
    "    <li>Is your result consistent with standard normal distribution?</li>\n",
    "    <li>Repeat your work by increasing the size of the array. Verify your results by plotting the pdf of the normal variable.</li>\n",
    "</ol>\n"
   ]
  },
  {
   "cell_type": "code",
   "execution_count": null,
   "id": "633f0401-fe0a-4dbe-89bd-7f360d932374",
   "metadata": {},
   "outputs": [],
   "source": []
  }
 ],
 "metadata": {
  "kernelspec": {
   "display_name": "Python 3 (ipykernel)",
   "language": "python",
   "name": "python3"
  },
  "language_info": {
   "codemirror_mode": {
    "name": "ipython",
    "version": 3
   },
   "file_extension": ".py",
   "mimetype": "text/x-python",
   "name": "python",
   "nbconvert_exporter": "python",
   "pygments_lexer": "ipython3",
   "version": "3.9.16"
  }
 },
 "nbformat": 4,
 "nbformat_minor": 5
}
